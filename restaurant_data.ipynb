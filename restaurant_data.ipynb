{
 "cells": [
  {
   "cell_type": "code",
   "execution_count": 1,
   "id": "1ce1f81a-c8ae-4c42-a558-0fc1553a7ae6",
   "metadata": {},
   "outputs": [],
   "source": [
    "import warnings\n",
    "warnings.filterwarnings(\"ignore\")\n",
    "\n",
    "import pandas as pd\n",
    "import matplotlib.pyplot as plt\n",
    "# Try importing seaborn, if it fails we'll use matplotlib only\n",
    "try:\n",
    "    import seaborn as sns\n",
    "    seaborn_available = True\n",
    "except ImportError:\n",
    "    seaborn_available = False\n",
    "    print(\"Seaborn not available, using matplotlib only\")\n",
    "\n",
    "import numpy as np"
   ]
  },
  {
   "cell_type": "code",
   "execution_count": 2,
   "id": "266a845e-3d41-4073-a963-e38c0878e49b",
   "metadata": {},
   "outputs": [
    {
     "name": "stdout",
     "output_type": "stream",
     "text": [
      "Requirement already satisfied: kaggle in /usr/local/lib/python3.11/site-packages (1.7.4.5)\n",
      "Requirement already satisfied: bleach in /usr/local/lib/python3.11/site-packages (from kaggle) (6.2.0)\n",
      "Requirement already satisfied: certifi>=14.05.14 in /usr/local/lib/python3.11/site-packages (from kaggle) (2022.12.7)\n",
      "Requirement already satisfied: charset-normalizer in /usr/local/lib/python3.11/site-packages (from kaggle) (3.1.0)\n",
      "Requirement already satisfied: idna in /usr/local/lib/python3.11/site-packages (from kaggle) (3.4)\n",
      "Requirement already satisfied: protobuf in /usr/local/lib/python3.11/site-packages (from kaggle) (6.32.1)\n",
      "Requirement already satisfied: python-dateutil>=2.5.3 in /usr/local/lib/python3.11/site-packages (from kaggle) (2.9.0.post0)\n",
      "Requirement already satisfied: python-slugify in /usr/local/lib/python3.11/site-packages (from kaggle) (8.0.4)\n",
      "Requirement already satisfied: requests in /usr/local/lib/python3.11/site-packages (from kaggle) (2.32.5)\n",
      "Requirement already satisfied: setuptools>=21.0.0 in /usr/local/lib/python3.11/site-packages (from kaggle) (80.9.0)\n",
      "Requirement already satisfied: six>=1.10 in /usr/local/lib/python3.11/site-packages (from kaggle) (1.17.0)\n",
      "Requirement already satisfied: text-unidecode in /usr/local/lib/python3.11/site-packages (from kaggle) (1.3)\n",
      "Requirement already satisfied: tqdm in /usr/local/lib/python3.11/site-packages (from kaggle) (4.67.1)\n",
      "Requirement already satisfied: urllib3>=1.15.1 in /usr/local/lib/python3.11/site-packages (from kaggle) (1.26.15)\n",
      "Requirement already satisfied: webencodings in /usr/local/lib/python3.11/site-packages (from kaggle) (0.5.1)\n"
     ]
    }
   ],
   "source": [
    "!pip install kaggle"
   ]
  },
  {
   "cell_type": "code",
   "execution_count": 3,
   "id": "9397d3ac-0be6-4078-9064-fccf38f4977b",
   "metadata": {},
   "outputs": [
    {
     "name": "stdout",
     "output_type": "stream",
     "text": [
      "Dataset URL: https://www.kaggle.com/datasets/rohitgrewal/restaurant-sales-data\n",
      "License(s): DbCL-1.0\n",
      "restaurant-sales-data.zip: Skipping, found more recently modified local copy (use --force to force download)\n"
     ]
    }
   ],
   "source": [
    "!kaggle datasets download -d rohitgrewal/restaurant-sales-data"
   ]
  },
  {
   "cell_type": "markdown",
   "id": "8f5c0238-15b2-4998-b876-cd22d2485f4f",
   "metadata": {},
   "source": [
    "IMPORTING DATA"
   ]
  },
  {
   "cell_type": "code",
   "execution_count": 4,
   "id": "0e455b9f-3423-4f6b-a637-4e416b42b3a3",
   "metadata": {},
   "outputs": [],
   "source": [
    "df=pd.read_csv('9. Sales-Data-Analysis.csv')"
   ]
  },
  {
   "cell_type": "code",
   "execution_count": 5,
   "id": "50243bce-2dd1-4f1e-950a-7d090b2425f1",
   "metadata": {},
   "outputs": [
    {
     "name": "stdout",
     "output_type": "stream",
     "text": [
      "<class 'pandas.core.frame.DataFrame'>\n",
      "RangeIndex: 254 entries, 0 to 253\n",
      "Data columns (total 9 columns):\n",
      " #   Column          Non-Null Count  Dtype  \n",
      "---  ------          --------------  -----  \n",
      " 0   Order ID        254 non-null    int64  \n",
      " 1   Date            254 non-null    object \n",
      " 2   Product         254 non-null    object \n",
      " 3   Price           254 non-null    float64\n",
      " 4   Quantity        254 non-null    float64\n",
      " 5   Purchase Type   254 non-null    object \n",
      " 6   Payment Method  254 non-null    object \n",
      " 7   Manager         254 non-null    object \n",
      " 8   City            254 non-null    object \n",
      "dtypes: float64(2), int64(1), object(6)\n",
      "memory usage: 18.0+ KB\n"
     ]
    }
   ],
   "source": [
    "df.head()\n",
    "df.info()"
   ]
  },
  {
   "cell_type": "markdown",
   "id": "46b44d2a-19d1-4ae9-9d3d-30b1afd8b5d5",
   "metadata": {},
   "source": [
    "Cleaning the Data based on the Data Type"
   ]
  },
  {
   "cell_type": "code",
   "execution_count": 6,
   "id": "bfcff944-9448-43b9-82a9-e7bea9cfc990",
   "metadata": {},
   "outputs": [
    {
     "data": {
      "text/plain": [
       "array(['Tom      Jackson', '       Pablo Perez', 'Joao    Silva',\n",
       "       'Walter Muller', 'Remy    Monet', 'Remy Monet',\n",
       "       '       Remy Monet', 'Remy     Monet', 'Pablo Perez',\n",
       "       'Pablo   Perez', 'Pablo  Perez', 'Pablo    Perez', 'Joao Silva',\n",
       "       'Tom Jackson'], dtype=object)"
      ]
     },
     "execution_count": 6,
     "metadata": {},
     "output_type": "execute_result"
    }
   ],
   "source": [
    "df.Manager.unique()"
   ]
  },
  {
   "cell_type": "code",
   "execution_count": 7,
   "id": "8ea752c9-dc18-417e-a072-138a6ef41c4d",
   "metadata": {},
   "outputs": [],
   "source": [
    "df['Manager'] = df['Manager'].str.strip().str.replace(r'\\s+', ' ', regex = True) #remove extra spaces in names"
   ]
  },
  {
   "cell_type": "code",
   "execution_count": 8,
   "id": "fa43c702-a966-4398-9649-3318b14d6ff8",
   "metadata": {},
   "outputs": [
    {
     "data": {
      "text/plain": [
       "array(['Tom Jackson', 'Pablo Perez', 'Joao Silva', 'Walter Muller',\n",
       "       'Remy Monet'], dtype=object)"
      ]
     },
     "execution_count": 8,
     "metadata": {},
     "output_type": "execute_result"
    }
   ],
   "source": [
    "df['Manager'].unique()"
   ]
  },
  {
   "cell_type": "code",
   "execution_count": 9,
   "id": "1c862f4f-c5ff-4339-9ab3-1678c44adfd8",
   "metadata": {},
   "outputs": [],
   "source": [
    "df.Quantity = df.Quantity.astype(float)\n",
    "df.Quantity = df.Quantity.round()\n",
    "df.Quantity = df.Quantity.astype(int) #changing datatype of quantity to integer"
   ]
  },
  {
   "cell_type": "code",
   "execution_count": 10,
   "id": "f95372af-1f0a-4b03-9b78-6198ecd72157",
   "metadata": {},
   "outputs": [
    {
     "data": {
      "text/plain": [
       "0      573\n",
       "1      746\n",
       "2      200\n",
       "3      570\n",
       "4      201\n",
       "      ... \n",
       "249    200\n",
       "250    754\n",
       "251    281\n",
       "252    630\n",
       "253    678\n",
       "Name: Quantity, Length: 254, dtype: int64"
      ]
     },
     "execution_count": 10,
     "metadata": {},
     "output_type": "execute_result"
    }
   ],
   "source": [
    "df['Quantity']"
   ]
  },
  {
   "cell_type": "code",
   "execution_count": 11,
   "id": "4c96684c-0793-425a-8645-b1f8581e2850",
   "metadata": {},
   "outputs": [],
   "source": [
    "df['Order ID'] = df['Order ID'].astype(int) #converting ORDER ID to integer and price to decimals\n",
    "df['Price'] = df['Price'].astype(float)"
   ]
  },
  {
   "cell_type": "code",
   "execution_count": 12,
   "id": "c68b58ab-8e26-403c-a381-d3b9a10c799d",
   "metadata": {},
   "outputs": [
    {
     "data": {
      "text/plain": [
       "dtype('O')"
      ]
     },
     "execution_count": 12,
     "metadata": {},
     "output_type": "execute_result"
    }
   ],
   "source": [
    "df.Date.dtype #converting datatype of dates"
   ]
  },
  {
   "cell_type": "code",
   "execution_count": 13,
   "id": "007e3593-94f0-43fb-b31a-30dd6a595cbc",
   "metadata": {},
   "outputs": [
    {
     "data": {
      "text/html": [
       "<div>\n",
       "<style scoped>\n",
       "    .dataframe tbody tr th:only-of-type {\n",
       "        vertical-align: middle;\n",
       "    }\n",
       "\n",
       "    .dataframe tbody tr th {\n",
       "        vertical-align: top;\n",
       "    }\n",
       "\n",
       "    .dataframe thead th {\n",
       "        text-align: right;\n",
       "    }\n",
       "</style>\n",
       "<table border=\"1\" class=\"dataframe\">\n",
       "  <thead>\n",
       "    <tr style=\"text-align: right;\">\n",
       "      <th></th>\n",
       "      <th>Order ID</th>\n",
       "      <th>Date</th>\n",
       "      <th>Product</th>\n",
       "      <th>Price</th>\n",
       "      <th>Quantity</th>\n",
       "      <th>Purchase Type</th>\n",
       "      <th>Payment Method</th>\n",
       "      <th>Manager</th>\n",
       "      <th>City</th>\n",
       "    </tr>\n",
       "  </thead>\n",
       "  <tbody>\n",
       "    <tr>\n",
       "      <th>0</th>\n",
       "      <td>10452</td>\n",
       "      <td>07-11-2022</td>\n",
       "      <td>Fries</td>\n",
       "      <td>3.49</td>\n",
       "      <td>573</td>\n",
       "      <td>Online</td>\n",
       "      <td>Gift Card</td>\n",
       "      <td>Tom Jackson</td>\n",
       "      <td>London</td>\n",
       "    </tr>\n",
       "    <tr>\n",
       "      <th>1</th>\n",
       "      <td>10453</td>\n",
       "      <td>07-11-2022</td>\n",
       "      <td>Beverages</td>\n",
       "      <td>2.95</td>\n",
       "      <td>746</td>\n",
       "      <td>Online</td>\n",
       "      <td>Gift Card</td>\n",
       "      <td>Pablo Perez</td>\n",
       "      <td>Madrid</td>\n",
       "    </tr>\n",
       "    <tr>\n",
       "      <th>2</th>\n",
       "      <td>10454</td>\n",
       "      <td>07-11-2022</td>\n",
       "      <td>Sides &amp; Other</td>\n",
       "      <td>4.99</td>\n",
       "      <td>200</td>\n",
       "      <td>In-store</td>\n",
       "      <td>Gift Card</td>\n",
       "      <td>Joao Silva</td>\n",
       "      <td>Lisbon</td>\n",
       "    </tr>\n",
       "    <tr>\n",
       "      <th>3</th>\n",
       "      <td>10455</td>\n",
       "      <td>08-11-2022</td>\n",
       "      <td>Burgers</td>\n",
       "      <td>12.99</td>\n",
       "      <td>570</td>\n",
       "      <td>In-store</td>\n",
       "      <td>Credit Card</td>\n",
       "      <td>Walter Muller</td>\n",
       "      <td>Berlin</td>\n",
       "    </tr>\n",
       "    <tr>\n",
       "      <th>4</th>\n",
       "      <td>10456</td>\n",
       "      <td>08-11-2022</td>\n",
       "      <td>Chicken Sandwiches</td>\n",
       "      <td>9.95</td>\n",
       "      <td>201</td>\n",
       "      <td>In-store</td>\n",
       "      <td>Credit Card</td>\n",
       "      <td>Walter Muller</td>\n",
       "      <td>Berlin</td>\n",
       "    </tr>\n",
       "  </tbody>\n",
       "</table>\n",
       "</div>"
      ],
      "text/plain": [
       "   Order ID        Date             Product  Price  Quantity Purchase Type  \\\n",
       "0     10452  07-11-2022               Fries   3.49       573       Online    \n",
       "1     10453  07-11-2022           Beverages   2.95       746       Online    \n",
       "2     10454  07-11-2022       Sides & Other   4.99       200     In-store    \n",
       "3     10455  08-11-2022             Burgers  12.99       570     In-store    \n",
       "4     10456  08-11-2022  Chicken Sandwiches   9.95       201     In-store    \n",
       "\n",
       "  Payment Method        Manager    City  \n",
       "0      Gift Card    Tom Jackson  London  \n",
       "1      Gift Card    Pablo Perez  Madrid  \n",
       "2      Gift Card     Joao Silva  Lisbon  \n",
       "3    Credit Card  Walter Muller  Berlin  \n",
       "4    Credit Card  Walter Muller  Berlin  "
      ]
     },
     "execution_count": 13,
     "metadata": {},
     "output_type": "execute_result"
    }
   ],
   "source": [
    "df.head()"
   ]
  },
  {
   "cell_type": "markdown",
   "id": "d81104d3-8908-4449-8683-93a7c10c04f8",
   "metadata": {},
   "source": [
    "**ANALYZING DATA**"
   ]
  },
  {
   "cell_type": "markdown",
   "id": "58232329-3de3-456a-901e-b086b554f956",
   "metadata": {},
   "source": [
    "Some questions to ask about the Data given our variables"
   ]
  },
  {
   "cell_type": "markdown",
   "id": "ad736fdc-b076-41dc-9a22-d161850f3b2b",
   "metadata": {},
   "source": [
    "**Q1. Most selling product?**"
   ]
  },
  {
   "cell_type": "code",
   "execution_count": 14,
   "id": "7ff2e92d-5ca2-4e27-b9b7-7cafb48c29d7",
   "metadata": {},
   "outputs": [
    {
     "data": {
      "text/plain": [
       "Product\n",
       "Beverages             34988\n",
       "Fries                 32023\n",
       "Burgers               29018\n",
       "Chicken Sandwiches    11133\n",
       "Sides & Other          9800\n",
       "Name: Quantity, dtype: int64"
      ]
     },
     "execution_count": 14,
     "metadata": {},
     "output_type": "execute_result"
    }
   ],
   "source": [
    "df.groupby('Product')['Quantity'].sum().sort_values(ascending=False)"
   ]
  },
  {
   "cell_type": "code",
   "execution_count": 15,
   "id": "0b80dd03-9ae2-4b1d-b735-c0a222640646",
   "metadata": {},
   "outputs": [
    {
     "data": {
      "text/html": [
       "<div>\n",
       "<style scoped>\n",
       "    .dataframe tbody tr th:only-of-type {\n",
       "        vertical-align: middle;\n",
       "    }\n",
       "\n",
       "    .dataframe tbody tr th {\n",
       "        vertical-align: top;\n",
       "    }\n",
       "\n",
       "    .dataframe thead th {\n",
       "        text-align: right;\n",
       "    }\n",
       "</style>\n",
       "<table border=\"1\" class=\"dataframe\">\n",
       "  <thead>\n",
       "    <tr style=\"text-align: right;\">\n",
       "      <th></th>\n",
       "      <th>Product</th>\n",
       "      <th>Quantity</th>\n",
       "    </tr>\n",
       "  </thead>\n",
       "  <tbody>\n",
       "    <tr>\n",
       "      <th>0</th>\n",
       "      <td>Beverages</td>\n",
       "      <td>34988</td>\n",
       "    </tr>\n",
       "    <tr>\n",
       "      <th>1</th>\n",
       "      <td>Fries</td>\n",
       "      <td>32023</td>\n",
       "    </tr>\n",
       "    <tr>\n",
       "      <th>2</th>\n",
       "      <td>Burgers</td>\n",
       "      <td>29018</td>\n",
       "    </tr>\n",
       "    <tr>\n",
       "      <th>3</th>\n",
       "      <td>Chicken Sandwiches</td>\n",
       "      <td>11133</td>\n",
       "    </tr>\n",
       "    <tr>\n",
       "      <th>4</th>\n",
       "      <td>Sides &amp; Other</td>\n",
       "      <td>9800</td>\n",
       "    </tr>\n",
       "  </tbody>\n",
       "</table>\n",
       "</div>"
      ],
      "text/plain": [
       "              Product  Quantity\n",
       "0           Beverages     34988\n",
       "1               Fries     32023\n",
       "2             Burgers     29018\n",
       "3  Chicken Sandwiches     11133\n",
       "4       Sides & Other      9800"
      ]
     },
     "execution_count": 15,
     "metadata": {},
     "output_type": "execute_result"
    }
   ],
   "source": [
    "most_sold = df.groupby('Product')['Quantity'].sum().sort_values(ascending=False)\n",
    "most_sold = most_sold.reset_index()\n",
    "most_sold"
   ]
  },
  {
   "cell_type": "code",
   "execution_count": 16,
   "id": "6e6bb27a-5e50-4f44-a7c7-bd0a57d94a4b",
   "metadata": {},
   "outputs": [
    {
     "data": {
      "text/plain": [
       "Text(0, 0.5, 'Quantity')"
      ]
     },
     "execution_count": 16,
     "metadata": {},
     "output_type": "execute_result"
    },
    {
     "data": {
      "image/png": "[encoded data removed]",
      "text/plain": [
       "<Figure size 900x400 with 1 Axes>"
      ]
     },
     "metadata": {},
     "output_type": "display_data"
    }
   ],
   "source": [
    "plt.figure(figsize = (9,4))\n",
    "plt.bar(most_sold['Product'], most_sold['Quantity'], width=0.3)\n",
    "plt.title(\"Most sold Product By Quantity\")\n",
    "plt.xlabel(\"Product\")\n",
    "plt.ylabel(\"Quantity\")"
   ]
  },
  {
   "cell_type": "markdown",
   "id": "fc146d3e-2720-4f4e-b769-f1bd7ea038cc",
   "metadata": {},
   "source": [
    "We can see from the bar plot that the most sold item from our restaurants is beverages followed by fries"
   ]
  },
  {
   "cell_type": "markdown",
   "id": "ed81f19b-a510-4806-9cf7-140228c5bd73",
   "metadata": {},
   "source": [
    "**Q2. Which City had the highest revenue?**"
   ]
  },
  {
   "cell_type": "code",
   "execution_count": 17,
   "id": "b8e5876e-1ac2-4071-927d-eff831a7f034",
   "metadata": {},
   "outputs": [
    {
     "data": {
      "text/plain": [
       "array(['London', 'Madrid', 'Lisbon', 'Berlin', 'Paris'], dtype=object)"
      ]
     },
     "execution_count": 17,
     "metadata": {},
     "output_type": "execute_result"
    }
   ],
   "source": [
    "df.City.unique() #checking for the different cities for comparison"
   ]
  },
  {
   "cell_type": "code",
   "execution_count": 18,
   "id": "cbf815d7-a2dc-44e7-8f69-8bdd65e3e268",
   "metadata": {},
   "outputs": [
    {
     "data": {
      "text/plain": [
       "City\n",
       "Lisbon    241635.49\n",
       "London    211160.04\n",
       "Madrid    136154.24\n",
       "Berlin    100572.34\n",
       "Paris      79777.33\n",
       "Name: Revenue, dtype: float64"
      ]
     },
     "execution_count": 18,
     "metadata": {},
     "output_type": "execute_result"
    }
   ],
   "source": [
    "df['Revenue'] = df['Price'] * df['Quantity'] #creating revenue column\n",
    "df.groupby('City')['Revenue'].sum().sort_values(ascending=False)"
   ]
  },
  {
   "cell_type": "markdown",
   "id": "38cbb645-d7c2-41b4-a0c8-17c0b5c0fc3f",
   "metadata": {},
   "source": [
    "With this we can see that the city with the most revenue generated was Lisbon"
   ]
  },
  {
   "cell_type": "markdown",
   "id": "3e6ddf0b-3716-4597-95c3-144a8a9fb2ea",
   "metadata": {},
   "source": [
    "**We can even check to see which manager was responsible for the most revenue based on the city they work in**"
   ]
  },
  {
   "cell_type": "code",
   "execution_count": 19,
   "id": "a97a91fd-1be5-42cc-b3d4-0e817226eedf",
   "metadata": {},
   "outputs": [
    {
     "data": {
      "text/plain": [
       "Manager\n",
       "Joao Silva       241635.49\n",
       "Tom Jackson      211160.04\n",
       "Pablo Perez      136154.24\n",
       "Walter Muller    100572.34\n",
       "Remy Monet        79777.33\n",
       "Name: Revenue, dtype: float64"
      ]
     },
     "execution_count": 19,
     "metadata": {},
     "output_type": "execute_result"
    }
   ],
   "source": [
    "df.groupby('Manager')['Revenue'].sum().sort_values(ascending=False)"
   ]
  },
  {
   "cell_type": "markdown",
   "id": "1933b9d4-e086-45b2-a04c-71a0716e21e5",
   "metadata": {},
   "source": [
    "In this case Joao Silva which is responsible for restaurant sales in the city of Lisbon has the highest revenue"
   ]
  },
  {
   "cell_type": "markdown",
   "id": "7bc49eaf-d810-4587-bb80-e66e99751b88",
   "metadata": {},
   "source": [
    "**Q3. Average Revenue by Month**"
   ]
  },
  {
   "cell_type": "code",
   "execution_count": 20,
   "id": "4762af2e-d91b-4c4b-b6b5-d9a27003e7e8",
   "metadata": {},
   "outputs": [],
   "source": [
    "df['Date'] = pd.to_datetime(df['Date'], dayfirst=True)"
   ]
  },
  {
   "cell_type": "code",
   "execution_count": 21,
   "id": "b1628d22-5d31-4ee1-b30c-6b5286167e59",
   "metadata": {},
   "outputs": [
    {
     "data": {
      "text/plain": [
       "array([11, 12], dtype=int32)"
      ]
     },
     "execution_count": 21,
     "metadata": {},
     "output_type": "execute_result"
    }
   ],
   "source": [
    "df['Month'] = df['Date'].dt.month\n",
    "df.Month.unique() #shows the unique value for months"
   ]
  },
  {
   "cell_type": "code",
   "execution_count": 22,
   "id": "2e5aa122-8a24-42fc-bc7d-49cdac6d0928",
   "metadata": {},
   "outputs": [
    {
     "data": {
      "text/html": [
       "<div>\n",
       "<style scoped>\n",
       "    .dataframe tbody tr th:only-of-type {\n",
       "        vertical-align: middle;\n",
       "    }\n",
       "\n",
       "    .dataframe tbody tr th {\n",
       "        vertical-align: top;\n",
       "    }\n",
       "\n",
       "    .dataframe thead th {\n",
       "        text-align: right;\n",
       "    }\n",
       "</style>\n",
       "<table border=\"1\" class=\"dataframe\">\n",
       "  <thead>\n",
       "    <tr style=\"text-align: right;\">\n",
       "      <th></th>\n",
       "      <th>Order ID</th>\n",
       "      <th>Date</th>\n",
       "      <th>Product</th>\n",
       "      <th>Price</th>\n",
       "      <th>Quantity</th>\n",
       "      <th>Purchase Type</th>\n",
       "      <th>Payment Method</th>\n",
       "      <th>Manager</th>\n",
       "      <th>City</th>\n",
       "      <th>Revenue</th>\n",
       "      <th>Month</th>\n",
       "    </tr>\n",
       "  </thead>\n",
       "  <tbody>\n",
       "    <tr>\n",
       "      <th>0</th>\n",
       "      <td>10452</td>\n",
       "      <td>2022-11-07</td>\n",
       "      <td>Fries</td>\n",
       "      <td>3.49</td>\n",
       "      <td>573</td>\n",
       "      <td>Online</td>\n",
       "      <td>Gift Card</td>\n",
       "      <td>Tom Jackson</td>\n",
       "      <td>London</td>\n",
       "      <td>1999.77</td>\n",
       "      <td>11</td>\n",
       "    </tr>\n",
       "    <tr>\n",
       "      <th>1</th>\n",
       "      <td>10453</td>\n",
       "      <td>2022-11-07</td>\n",
       "      <td>Beverages</td>\n",
       "      <td>2.95</td>\n",
       "      <td>746</td>\n",
       "      <td>Online</td>\n",
       "      <td>Gift Card</td>\n",
       "      <td>Pablo Perez</td>\n",
       "      <td>Madrid</td>\n",
       "      <td>2200.70</td>\n",
       "      <td>11</td>\n",
       "    </tr>\n",
       "    <tr>\n",
       "      <th>2</th>\n",
       "      <td>10454</td>\n",
       "      <td>2022-11-07</td>\n",
       "      <td>Sides &amp; Other</td>\n",
       "      <td>4.99</td>\n",
       "      <td>200</td>\n",
       "      <td>In-store</td>\n",
       "      <td>Gift Card</td>\n",
       "      <td>Joao Silva</td>\n",
       "      <td>Lisbon</td>\n",
       "      <td>998.00</td>\n",
       "      <td>11</td>\n",
       "    </tr>\n",
       "    <tr>\n",
       "      <th>3</th>\n",
       "      <td>10455</td>\n",
       "      <td>2022-11-08</td>\n",
       "      <td>Burgers</td>\n",
       "      <td>12.99</td>\n",
       "      <td>570</td>\n",
       "      <td>In-store</td>\n",
       "      <td>Credit Card</td>\n",
       "      <td>Walter Muller</td>\n",
       "      <td>Berlin</td>\n",
       "      <td>7404.30</td>\n",
       "      <td>11</td>\n",
       "    </tr>\n",
       "    <tr>\n",
       "      <th>4</th>\n",
       "      <td>10456</td>\n",
       "      <td>2022-11-08</td>\n",
       "      <td>Chicken Sandwiches</td>\n",
       "      <td>9.95</td>\n",
       "      <td>201</td>\n",
       "      <td>In-store</td>\n",
       "      <td>Credit Card</td>\n",
       "      <td>Walter Muller</td>\n",
       "      <td>Berlin</td>\n",
       "      <td>1999.95</td>\n",
       "      <td>11</td>\n",
       "    </tr>\n",
       "    <tr>\n",
       "      <th>...</th>\n",
       "      <td>...</td>\n",
       "      <td>...</td>\n",
       "      <td>...</td>\n",
       "      <td>...</td>\n",
       "      <td>...</td>\n",
       "      <td>...</td>\n",
       "      <td>...</td>\n",
       "      <td>...</td>\n",
       "      <td>...</td>\n",
       "      <td>...</td>\n",
       "      <td>...</td>\n",
       "    </tr>\n",
       "    <tr>\n",
       "      <th>108</th>\n",
       "      <td>10568</td>\n",
       "      <td>2022-11-30</td>\n",
       "      <td>Beverages</td>\n",
       "      <td>2.95</td>\n",
       "      <td>678</td>\n",
       "      <td>Online</td>\n",
       "      <td>Credit Card</td>\n",
       "      <td>Tom Jackson</td>\n",
       "      <td>London</td>\n",
       "      <td>2000.10</td>\n",
       "      <td>11</td>\n",
       "    </tr>\n",
       "    <tr>\n",
       "      <th>109</th>\n",
       "      <td>10569</td>\n",
       "      <td>2022-11-30</td>\n",
       "      <td>Sides &amp; Other</td>\n",
       "      <td>4.99</td>\n",
       "      <td>200</td>\n",
       "      <td>Online</td>\n",
       "      <td>Credit Card</td>\n",
       "      <td>Tom Jackson</td>\n",
       "      <td>London</td>\n",
       "      <td>998.00</td>\n",
       "      <td>11</td>\n",
       "    </tr>\n",
       "    <tr>\n",
       "      <th>127</th>\n",
       "      <td>10537</td>\n",
       "      <td>2022-11-24</td>\n",
       "      <td>Fries</td>\n",
       "      <td>3.49</td>\n",
       "      <td>630</td>\n",
       "      <td>Drive-thru</td>\n",
       "      <td>Credit Card</td>\n",
       "      <td>Pablo Perez</td>\n",
       "      <td>Madrid</td>\n",
       "      <td>2198.70</td>\n",
       "      <td>11</td>\n",
       "    </tr>\n",
       "    <tr>\n",
       "      <th>128</th>\n",
       "      <td>10538</td>\n",
       "      <td>2022-11-24</td>\n",
       "      <td>Beverages</td>\n",
       "      <td>2.95</td>\n",
       "      <td>746</td>\n",
       "      <td>Drive-thru</td>\n",
       "      <td>Credit Card</td>\n",
       "      <td>Pablo Perez</td>\n",
       "      <td>Madrid</td>\n",
       "      <td>2200.70</td>\n",
       "      <td>11</td>\n",
       "    </tr>\n",
       "    <tr>\n",
       "      <th>129</th>\n",
       "      <td>10539</td>\n",
       "      <td>2022-11-24</td>\n",
       "      <td>Sides &amp; Other</td>\n",
       "      <td>4.99</td>\n",
       "      <td>200</td>\n",
       "      <td>Drive-thru</td>\n",
       "      <td>Credit Card</td>\n",
       "      <td>Pablo Perez</td>\n",
       "      <td>Madrid</td>\n",
       "      <td>998.00</td>\n",
       "      <td>11</td>\n",
       "    </tr>\n",
       "  </tbody>\n",
       "</table>\n",
       "<p>113 rows × 11 columns</p>\n",
       "</div>"
      ],
      "text/plain": [
       "     Order ID       Date             Product  Price  Quantity Purchase Type  \\\n",
       "0       10452 2022-11-07               Fries   3.49       573       Online    \n",
       "1       10453 2022-11-07           Beverages   2.95       746       Online    \n",
       "2       10454 2022-11-07       Sides & Other   4.99       200     In-store    \n",
       "3       10455 2022-11-08             Burgers  12.99       570     In-store    \n",
       "4       10456 2022-11-08  Chicken Sandwiches   9.95       201     In-store    \n",
       "..        ...        ...                 ...    ...       ...           ...   \n",
       "108     10568 2022-11-30           Beverages   2.95       678       Online    \n",
       "109     10569 2022-11-30       Sides & Other   4.99       200       Online    \n",
       "127     10537 2022-11-24               Fries   3.49       630   Drive-thru    \n",
       "128     10538 2022-11-24           Beverages   2.95       746   Drive-thru    \n",
       "129     10539 2022-11-24       Sides & Other   4.99       200   Drive-thru    \n",
       "\n",
       "    Payment Method        Manager    City  Revenue  Month  \n",
       "0        Gift Card    Tom Jackson  London  1999.77     11  \n",
       "1        Gift Card    Pablo Perez  Madrid  2200.70     11  \n",
       "2        Gift Card     Joao Silva  Lisbon   998.00     11  \n",
       "3      Credit Card  Walter Muller  Berlin  7404.30     11  \n",
       "4      Credit Card  Walter Muller  Berlin  1999.95     11  \n",
       "..             ...            ...     ...      ...    ...  \n",
       "108    Credit Card    Tom Jackson  London  2000.10     11  \n",
       "109    Credit Card    Tom Jackson  London   998.00     11  \n",
       "127    Credit Card    Pablo Perez  Madrid  2198.70     11  \n",
       "128    Credit Card    Pablo Perez  Madrid  2200.70     11  \n",
       "129    Credit Card    Pablo Perez  Madrid   998.00     11  \n",
       "\n",
       "[113 rows x 11 columns]"
      ]
     },
     "execution_count": 22,
     "metadata": {},
     "output_type": "execute_result"
    }
   ],
   "source": [
    "november = df[df['Month'] == 11] #this would show us the sales in the month of november\n",
    "november"
   ]
  },
  {
   "cell_type": "code",
   "execution_count": 23,
   "id": "80625b9e-1270-47da-a0d2-39573f15f0aa",
   "metadata": {},
   "outputs": [
    {
     "data": {
      "text/plain": [
       "2938.1869026548666"
      ]
     },
     "execution_count": 23,
     "metadata": {},
     "output_type": "execute_result"
    }
   ],
   "source": [
    "november.Revenue.mean() #this would show the average sale for all items in the month of november"
   ]
  },
  {
   "cell_type": "markdown",
   "id": "51c384c6-4f6e-4fca-909e-78bed2d3caf9",
   "metadata": {},
   "source": [
    "**If needed, averages for items can be specifically shown in the months or even weeks or days as well**"
   ]
  },
  {
   "cell_type": "code",
   "execution_count": 24,
   "id": "7cfc1c5a-590e-4cfb-b206-546f3de66499",
   "metadata": {},
   "outputs": [
    {
     "data": {
      "image/png": "[encoded data removed]",
      "text/plain": [
       "<Figure size 1000x600 with 1 Axes>"
      ]
     },
     "metadata": {},
     "output_type": "display_data"
    }
   ],
   "source": [
    "# Group by month and calculate average revenue\n",
    "monthly_avg_revenue = df.groupby('Month')['Revenue'].mean()\n",
    "\n",
    "# Create bar plot\n",
    "plt.figure(figsize=(10, 6))\n",
    "monthly_avg_revenue.plot(kind='bar', color='skyblue', edgecolor='black')\n",
    "plt.title('Average Revenue by Month', fontsize=14, fontweight='bold')\n",
    "plt.xlabel('Month', fontsize=12)\n",
    "plt.ylabel('Average Revenue ($)', fontsize=12)\n",
    "plt.xticks(rotation=0)\n",
    "plt.grid(axis='y', alpha=0.3)\n",
    "\n",
    "# Add value labels on bars\n",
    "for i, v in enumerate(monthly_avg_revenue):\n",
    "    plt.text(i, v + 50, f'${v:,.0f}', ha='center', va='bottom')\n",
    "\n",
    "plt.tight_layout()\n",
    "plt.show()"
   ]
  },
  {
   "cell_type": "code",
   "execution_count": 25,
   "id": "ceeb9c5c-f244-49f6-966e-f8c10e03bba4",
   "metadata": {},
   "outputs": [
    {
     "data": {
      "image/png": "[encoded data removed]",
      "text/plain": [
       "<Figure size 1200x800 with 2 Axes>"
      ]
     },
     "metadata": {},
     "output_type": "display_data"
    }
   ],
   "source": [
    "pivot_table = df.groupby(['Product', 'Month'])['Revenue'].mean().unstack()\n",
    "\n",
    "plt.figure(figsize=(12, 8))\n",
    "sns.heatmap(pivot_table, annot=True, fmt='.0f', cmap='YlOrRd', cbar_kws={'label': 'Average Revenue ($)'})\n",
    "plt.title('Average Revenue by Product and Month', fontsize=16, fontweight='bold')\n",
    "plt.xlabel('Month')\n",
    "plt.ylabel('Product')\n",
    "plt.tight_layout()\n",
    "plt.show()"
   ]
  },
  {
   "cell_type": "markdown",
   "id": "f9246039-fc7a-4c2a-ac0c-b39d07dbdb31",
   "metadata": {},
   "source": [
    "From the heatmap we can kind of see the difference between the revenue generated for each different product between the months of november and december. It seems that the only significant change is for burgers which generated almost 1000$ more revenue between the two months"
   ]
  },
  {
   "cell_type": "markdown",
   "id": "2f6649dc-5314-48d7-a205-df89a0b6ec39",
   "metadata": {},
   "source": [
    "**Q4. Most Preferred Payment Method**"
   ]
  },
  {
   "cell_type": "code",
   "execution_count": 27,
   "id": "4550c4e3-f6ad-4328-93dd-af83b357056f",
   "metadata": {},
   "outputs": [
    {
     "data": {
      "text/plain": [
       "Payment Method\n",
       "Credit Card    120\n",
       "Cash            76\n",
       "Gift Card       58\n",
       "Name: count, dtype: int64"
      ]
     },
     "execution_count": 27,
     "metadata": {},
     "output_type": "execute_result"
    }
   ],
   "source": [
    "df['Payment Method'].unique()\n",
    "df['Payment Method'].value_counts()"
   ]
  },
  {
   "cell_type": "code",
   "execution_count": 32,
   "id": "e7ac1bc3-f7cf-41f7-8314-d191b6db7ce1",
   "metadata": {},
   "outputs": [
    {
     "data": {
      "text/plain": [
       "Payment Method\n",
       "Credit Card    47.244094\n",
       "Cash           29.921260\n",
       "Gift Card      22.834646\n",
       "Name: proportion, dtype: float64"
      ]
     },
     "execution_count": 32,
     "metadata": {},
     "output_type": "execute_result"
    }
   ],
   "source": [
    "df['Payment Method'].value_counts(normalize=True)*100 #get percentages"
   ]
  },
  {
   "cell_type": "code",
   "execution_count": 29,
   "id": "c6cc77ee-1063-489f-bd31-df9a65e269d1",
   "metadata": {},
   "outputs": [
    {
     "data": {
      "text/plain": [
       "<Axes: xlabel='Payment Method'>"
      ]
     },
     "execution_count": 29,
     "metadata": {},
     "output_type": "execute_result"
    },
    {
     "data": {
      "image/png": "[encoded data removed]",
      "text/plain": [
       "<Figure size 640x480 with 1 Axes>"
      ]
     },
     "metadata": {},
     "output_type": "display_data"
    }
   ],
   "source": [
    "df['Payment Method'].value_counts().plot(kind='bar')"
   ]
  },
  {
   "cell_type": "markdown",
   "id": "d8e1e238-564a-4dfa-9449-7ecaca00f997",
   "metadata": {},
   "source": [
    "We can see that most people preferred to pay with a credit card with around 47% of the customer base, 30% of the customer base used cash and 23% used gift cards."
   ]
  },
  {
   "cell_type": "markdown",
   "id": "c0054748-08df-4eff-b944-c92c90363533",
   "metadata": {},
   "source": [
    "**Conclusion**"
   ]
  },
  {
   "cell_type": "markdown",
   "id": "105a4276-5dd5-4fa8-888c-e5ba008fcc0c",
   "metadata": {},
   "source": [
    "Overall this project was to take a look at sales data for a restaurant chain based on the type of data given. Most people paid with credit cards, the most revenue generating items are burgers and beverages, the average revenue for the chain of restaurants increase by about 3.3% between the months of november and december, and the manager doing the best is Joao Silva in Lisbon."
   ]
  },
  {
   "cell_type": "markdown",
   "id": "05f0ce06-cc04-4983-b089-01a6503ea2e7",
   "metadata": {},
   "source": [
    "There's plenty more data analysis that could be done for this dataset but for the sake of this project the analysis will end here for now. With more data on for the upcoming months or perhaps the past few months of the restaurant sales data, a trend can be created for what type of items sells better in what season. Or creating machine learning patterns to see what customers are likely to order during what season or if sales for time of day data is given what customers are liklier to order at different times of day can be generalized as well."
   ]
  }
 ],
 "metadata": {
  "kernelspec": {
   "display_name": "Python 3 (ipykernel)",
   "language": "python",
   "name": "python3"
  },
  "language_info": {
   "codemirror_mode": {
    "name": "ipython",
    "version": 3
   },
   "file_extension": ".py",
   "mimetype": "text/x-python",
   "name": "python",
   "nbconvert_exporter": "python",
   "pygments_lexer": "ipython3",
   "version": "3.11.13"
  }
 },
 "nbformat": 4,
 "nbformat_minor": 5
}
